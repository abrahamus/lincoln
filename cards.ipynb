{
 "cells": [
  {
   "cell_type": "code",
   "execution_count": 3,
   "id": "60415f07-270f-4472-bc84-2f1b8343727a",
   "metadata": {},
   "outputs": [],
   "source": [
    "suits = ['hearts', 'spades', 'diamonds', 'clubs']\n",
    "\n",
    "ranks = ['two', 'three', 'four', 'five', 'six', 'seven', 'eight', 'nine', 'ten', 'jack', 'queen', 'king', 'ace']\n",
    "\n",
    "values = dict ( zip ( ranks, range (2,15)))\n",
    "\n",
    "class Card():\n",
    "    \n",
    "    def __init__(self, suit, rank):\n",
    "        \n",
    "        self.suit = suit\n",
    "        \n",
    "        self.rank = rank\n",
    "        \n",
    "        self.value = values [rank]\n",
    "    \n",
    "    def __str__(self):\n",
    "        \n",
    "        return f'{self.rank} of {self.suit}'"
   ]
  },
  {
   "cell_type": "code",
   "execution_count": 4,
   "id": "ea50e319-dc21-4480-b3c8-31217db44fe3",
   "metadata": {},
   "outputs": [],
   "source": [
    "from random import shuffle\n",
    "\n",
    "class Deck():\n",
    "    \n",
    "    def __init__(self):\n",
    "        \n",
    "        self.all_cards = [Card(s,r) for s in suits for r in ranks]\n",
    "    \n",
    "    def __len__(self):\n",
    "        \n",
    "        return len(self.all_cards)\n",
    "    \n",
    "    def deal_one_card (self):\n",
    "        \n",
    "        return self.all_cards.pop()\n",
    "    \n",
    "    def shuffle (self):\n",
    "        \n",
    "        shuffle(self.all_cards)\n",
    "        "
   ]
  },
  {
   "cell_type": "code",
   "execution_count": 5,
   "id": "91a8402d-f0b4-4761-87f8-2c19011c32bf",
   "metadata": {},
   "outputs": [],
   "source": [
    "class Player():\n",
    "    \n",
    "    def __init__(self, name):\n",
    "        \n",
    "        self.all_cards = []\n",
    "        self.name = name\n",
    "    \n",
    "    def add_one_card(self,card):\n",
    "        \n",
    "        if type (card) == list:\n",
    "            self.all_cards.extend(card)\n",
    "        else:\n",
    "            self.all_cards.append(card)\n",
    "        \n",
    "    def deal_one_card(self):\n",
    "        \n",
    "        return self.all_cards.pop(0)\n",
    "    \n",
    "    def __str__(self):\n",
    "        \n",
    "        return f'{self.name} has {len(self.all_cards)} cards'\n",
    "    \n",
    "    def __len__(self):\n",
    "        \n",
    "        return len(self.all_cards)"
   ]
  },
  {
   "cell_type": "code",
   "execution_count": 51,
   "id": "279975d9-4a25-4351-b6d0-ffacc2512390",
   "metadata": {},
   "outputs": [],
   "source": [
    "def war_game():\n",
    "    \n",
    "    new_deck = Deck()\n",
    "    \n",
    "    p1 = Player ('Eddy')\n",
    "    \n",
    "    p2 = Player ('Dominik')\n",
    "    \n",
    "    new_deck.shuffle()\n",
    "    \n",
    "    counter = 0\n",
    "    \n",
    "    #while True:\n",
    "        \n",
    "        #print (counter)\n",
    "        #p1.add_one_card(new_deck.deal_one_card())\n",
    "        #p2.add_one_card(new_deck.deal_one_card())\n",
    "        \n",
    "        #if len(new_deck.all_cards) == 0:\n",
    "            #break\n",
    "        #else:\n",
    "            #counter += 2\n",
    "            #continue\n",
    "    \n",
    "    #return f'player1 has {len(p1.all_cards)} cards; player2 has {len(p2.all_cards)} cards'\n",
    "    \n",
    "    counter = 0\n",
    "    \n",
    "    while counter < 52:\n",
    "        \n",
    "        p1.add_one_card(new_deck.deal_one_card())\n",
    "        p2.add_one_card(new_deck.deal_one_card())\n",
    "        \n",
    "        counter += 2\n",
    "    \n",
    "    \n",
    "    counter = 0\n",
    "    \n",
    "    while True:\n",
    "        \n",
    "        print (f'player 1 has {len(p1)} cards; player 2 has {len(p2)} cards')\n",
    "        \n",
    "        counter += 1\n",
    "        \n",
    "        if counter >20:\n",
    "            break\n",
    "            \n",
    "        if len(p1) < 5 or len(p2) < 5:\n",
    "            print ('game over')\n",
    "            break\n",
    "        \n",
    "        p1_card = p1.deal_one_card()\n",
    "        p2_card = p2.deal_one_card()\n",
    "\n",
    "\n",
    "        if p1_card.value > p2_card.value:\n",
    "\n",
    "            p1.add_one_card([p1_card,p2_card])\n",
    "\n",
    "            print (f'player 1 won: player 1 has {p1_card}; player 2 has {p2_card}')\n",
    "            print (f'player 1 has {len(p1)} cards; player 2 has {len(p2)} cards')\n",
    "\n",
    "        elif p1_card.value < p2_card.value:\n",
    "\n",
    "            p2.add_one_card([p1_card,p2_card])\n",
    "\n",
    "            print (f'player 2 won: player 1 has {p1_card}; player 2 has {p2_card}')\n",
    "            print (f'player 1 has {len(p1)} cards; player 2 has {len(p2)} cards')\n",
    "            \n",
    "            \n",
    "        elif p1_card.value == p2_card.value:\n",
    "            \n",
    "            pool = [p1_card,p2_card]\n",
    "            \n",
    "            #print (len(pool))\n",
    "            \n",
    "            while True:\n",
    "                print (f'war: player 1 has {p1_card}; player 2 has {p2_card}')\n",
    "\n",
    "                p1_lst = [p1.deal_one_card() for x in [0,1,2]]\n",
    "                p2_lst = [p2.deal_one_card() for x in [0,1,2]]\n",
    "                \n",
    "                pool.extend(p1_lst)\n",
    "                pool.extend(p2_lst)\n",
    "                \n",
    "                #print (len(pool))\n",
    "\n",
    "                if p1_lst [-1].value > p2_lst [-1].value:\n",
    "                    p1.add_one_card(pool)\n",
    "                    break\n",
    "\n",
    "                elif p1_lst [-1].value < p2_lst [-1].value:\n",
    "                    p2.add_one_card(pool)\n",
    "                    break\n",
    "\n",
    "                elif p1_lst [-1].value == p2_lst [-1].value:\n",
    "                    continue\n",
    "            \n",
    "            #print (f'player 1 has {len(p1)} cards; player 2 has {len(p2)} cards')\n",
    "\n",
    "\n",
    "\n",
    "\n",
    "            \n",
    "    \n",
    "    \n",
    "    "
   ]
  },
  {
   "cell_type": "code",
   "execution_count": 52,
   "id": "6b1a3b4d-ec85-4cda-8556-2868159ab716",
   "metadata": {},
   "outputs": [
    {
     "name": "stdout",
     "output_type": "stream",
     "text": [
      "player 1 has 26 cards; player 2 has 26 cards\n",
      "player 1 won: player 1 has nine of spades; player 2 has four of clubs\n",
      "player 1 has 27 cards; player 2 has 25 cards\n",
      "player 1 has 27 cards; player 2 has 25 cards\n",
      "player 2 won: player 1 has seven of hearts; player 2 has eight of diamonds\n",
      "player 1 has 26 cards; player 2 has 26 cards\n",
      "player 1 has 26 cards; player 2 has 26 cards\n",
      "player 1 won: player 1 has five of hearts; player 2 has two of spades\n",
      "player 1 has 27 cards; player 2 has 25 cards\n",
      "player 1 has 27 cards; player 2 has 25 cards\n",
      "player 1 won: player 1 has five of diamonds; player 2 has two of diamonds\n",
      "player 1 has 28 cards; player 2 has 24 cards\n",
      "player 1 has 28 cards; player 2 has 24 cards\n",
      "player 2 won: player 1 has three of hearts; player 2 has queen of spades\n",
      "player 1 has 27 cards; player 2 has 25 cards\n",
      "player 1 has 27 cards; player 2 has 25 cards\n",
      "player 1 won: player 1 has queen of clubs; player 2 has two of clubs\n",
      "player 1 has 28 cards; player 2 has 24 cards\n",
      "player 1 has 28 cards; player 2 has 24 cards\n",
      "player 2 won: player 1 has ten of diamonds; player 2 has jack of clubs\n",
      "player 1 has 27 cards; player 2 has 25 cards\n",
      "player 1 has 27 cards; player 2 has 25 cards\n",
      "player 2 won: player 1 has three of diamonds; player 2 has six of hearts\n",
      "player 1 has 26 cards; player 2 has 26 cards\n",
      "player 1 has 26 cards; player 2 has 26 cards\n",
      "player 1 won: player 1 has jack of hearts; player 2 has eight of clubs\n",
      "player 1 has 27 cards; player 2 has 25 cards\n",
      "player 1 has 27 cards; player 2 has 25 cards\n",
      "player 1 won: player 1 has king of hearts; player 2 has seven of diamonds\n",
      "player 1 has 28 cards; player 2 has 24 cards\n",
      "player 1 has 28 cards; player 2 has 24 cards\n",
      "player 1 won: player 1 has jack of spades; player 2 has six of clubs\n",
      "player 1 has 29 cards; player 2 has 23 cards\n",
      "player 1 has 29 cards; player 2 has 23 cards\n",
      "player 2 won: player 1 has seven of spades; player 2 has nine of clubs\n",
      "player 1 has 28 cards; player 2 has 24 cards\n",
      "player 1 has 28 cards; player 2 has 24 cards\n",
      "player 1 won: player 1 has queen of hearts; player 2 has eight of spades\n",
      "player 1 has 29 cards; player 2 has 23 cards\n",
      "player 1 has 29 cards; player 2 has 23 cards\n",
      "player 2 won: player 1 has eight of hearts; player 2 has ten of spades\n",
      "player 1 has 28 cards; player 2 has 24 cards\n",
      "player 1 has 28 cards; player 2 has 24 cards\n",
      "player 2 won: player 1 has four of spades; player 2 has ten of hearts\n",
      "player 1 has 27 cards; player 2 has 25 cards\n",
      "player 1 has 27 cards; player 2 has 25 cards\n",
      "war: player 1 has king of spades; player 2 has king of clubs\n",
      "player 1 has 31 cards; player 2 has 21 cards\n",
      "player 1 won: player 1 has six of spades; player 2 has three of spades\n",
      "player 1 has 32 cards; player 2 has 20 cards\n",
      "player 1 has 32 cards; player 2 has 20 cards\n",
      "player 1 won: player 1 has nine of hearts; player 2 has five of clubs\n",
      "player 1 has 33 cards; player 2 has 19 cards\n",
      "player 1 has 33 cards; player 2 has 19 cards\n",
      "player 1 won: player 1 has ace of spades; player 2 has jack of diamonds\n",
      "player 1 has 34 cards; player 2 has 18 cards\n",
      "player 1 has 34 cards; player 2 has 18 cards\n",
      "player 1 won: player 1 has seven of clubs; player 2 has four of diamonds\n",
      "player 1 has 35 cards; player 2 has 17 cards\n",
      "player 1 has 35 cards; player 2 has 17 cards\n"
     ]
    }
   ],
   "source": [
    "war_game()"
   ]
  },
  {
   "cell_type": "code",
   "execution_count": 78,
   "id": "6af46bb6-df9a-4bc9-8c0f-ee24b78e4e2f",
   "metadata": {},
   "outputs": [],
   "source": [
    "x = ['a']\n",
    "y = ['b','c']"
   ]
  },
  {
   "cell_type": "code",
   "execution_count": 79,
   "id": "138495eb-9e25-4d44-a6af-3c88f3795611",
   "metadata": {},
   "outputs": [],
   "source": [
    "lst = []"
   ]
  },
  {
   "cell_type": "code",
   "execution_count": 80,
   "id": "0911b869-b212-4f18-9d94-c939fa14abfb",
   "metadata": {},
   "outputs": [],
   "source": [
    "lst = x + y"
   ]
  },
  {
   "cell_type": "code",
   "execution_count": 81,
   "id": "e55f23d1-a835-433f-9b17-0029bccf9b31",
   "metadata": {},
   "outputs": [
    {
     "data": {
      "text/plain": [
       "['a', 'b', 'c']"
      ]
     },
     "execution_count": 81,
     "metadata": {},
     "output_type": "execute_result"
    }
   ],
   "source": [
    "lst"
   ]
  },
  {
   "cell_type": "code",
   "execution_count": 74,
   "id": "2beaf571-5f86-4d5b-8e88-b0668a5f34c7",
   "metadata": {},
   "outputs": [],
   "source": [
    "lst.extend(y)"
   ]
  },
  {
   "cell_type": "code",
   "execution_count": 75,
   "id": "d5361d17-6ec4-4d09-b968-71f2a4737de3",
   "metadata": {},
   "outputs": [
    {
     "data": {
      "text/plain": [
       "['b', 'c']"
      ]
     },
     "execution_count": 75,
     "metadata": {},
     "output_type": "execute_result"
    }
   ],
   "source": [
    "lst"
   ]
  },
  {
   "cell_type": "code",
   "execution_count": null,
   "id": "b0424567-3e6b-482e-a4b2-4f252461d6ab",
   "metadata": {},
   "outputs": [],
   "source": []
  }
 ],
 "metadata": {
  "kernelspec": {
   "display_name": "Python 3 (ipykernel)",
   "language": "python",
   "name": "python3"
  },
  "language_info": {
   "codemirror_mode": {
    "name": "ipython",
    "version": 3
   },
   "file_extension": ".py",
   "mimetype": "text/x-python",
   "name": "python",
   "nbconvert_exporter": "python",
   "pygments_lexer": "ipython3",
   "version": "3.7.12"
  }
 },
 "nbformat": 4,
 "nbformat_minor": 5
}
