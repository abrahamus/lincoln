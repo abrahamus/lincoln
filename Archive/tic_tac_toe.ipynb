{
  "cells": [
    {
      "cell_type": "code",
      "execution_count": null,
      "metadata": {
        "id": "87SH6d_he8iH"
      },
      "outputs": [],
      "source": [
        "#print 3 x 3 board\n",
        "def print_board (bd):\n",
        "    \n",
        "    clear_output ()\n",
        "\n",
        "    print (bd [7] + ' | ' + bd [8] + ' | ' + bd [9])\n",
        "    print ('---------')\n",
        "    print (bd [4] + ' | ' + bd [5] + ' | ' + bd [6])\n",
        "    print ('---------')\n",
        "    print (bd [1] + ' | ' + bd [2] + ' | ' + bd [3])"
      ]
    },
    {
      "cell_type": "code",
      "execution_count": null,
      "metadata": {
        "id": "4CbwVFIqZMFS"
      },
      "outputs": [],
      "source": [
        "def default_board ():\n",
        "    \n",
        "    print ('         ')\n",
        "    print ('7' + ' | ' + '8' + ' | ' + '9')\n",
        "    print ('---------')\n",
        "    print ('4' + ' | ' + '5' + ' | ' + '6')\n",
        "    print ('---------')\n",
        "    print ('1' + ' | ' + '2' + ' | ' + '3')"
      ]
    },
    {
      "cell_type": "code",
      "execution_count": null,
      "metadata": {
        "id": "w5mY9uImfCuV"
      },
      "outputs": [],
      "source": [
        "#ask players for symbols\n",
        "\n",
        "def player_symbol ():\n",
        "\n",
        "    s = ''\n",
        "\n",
        "    #ask player to choose a symbol for that player\n",
        "    while s not in ['X', 'O']:\n",
        "      \n",
        "        s = input ('player 1 please choose your symbol: X or O').upper()\n",
        "\n",
        "        if s not in ['X', 'O']:\n",
        "            \n",
        "            print ('please choose a correct symbol')\n",
        "\n",
        "    p1 = s\n",
        "\n",
        "    p2 = 'X' if p1 == 'O' else 'O'\n",
        "\n",
        "    print (f'player 1 is assigned: {p1}; player 2 is assigned: {p2}')\n",
        "\n",
        "    #return player 1 & 2 symbols as list\n",
        "    return [p1, p2]\n"
      ]
    },
    {
      "cell_type": "code",
      "execution_count": null,
      "metadata": {
        "id": "_Hb5bfKCfL-G"
      },
      "outputs": [],
      "source": [
        "#ask player to pick a number\n",
        "\n",
        "def pick_number ():\n",
        "\n",
        "    n = '0'\n",
        "\n",
        "    #ask player to choose a number btw 1-9, return error if out of range\n",
        "    while n not in [str(x) for x in range(1, 10)]:\n",
        "      \n",
        "        n = input ('please pick a number (1-9):')\n",
        "\n",
        "        if n not in [str(x) for x in range(1, 10)]:\n",
        "            \n",
        "            print ('please pick a correct number')\n",
        "    \n",
        "    return int(n)"
      ]
    },
    {
      "cell_type": "code",
      "execution_count": null,
      "metadata": {
        "id": "smPHwxC-FMUt"
      },
      "outputs": [],
      "source": [
        "def check_repeat (bd, p_number):\n",
        "  \n",
        "  return bd [p_number] == '*'"
      ]
    },
    {
      "cell_type": "code",
      "execution_count": null,
      "metadata": {
        "id": "BYBZaEaArLFb"
      },
      "outputs": [],
      "source": [
        "def update_board (bd, p_symbol, p_number):\n",
        "    \n",
        "    #update the board position\n",
        "    bd [p_number] = p_symbol"
      ]
    },
    {
      "cell_type": "code",
      "execution_count": null,
      "metadata": {
        "id": "j6sqSMDe7NzA"
      },
      "outputs": [],
      "source": [
        "def check_tie (bd):\n",
        "    \n",
        "    # check if all positions on board are taken\n",
        "    return '*' not in bd [1:]"
      ]
    },
    {
      "cell_type": "code",
      "execution_count": null,
      "metadata": {
        "id": "xtB32LjtfolW"
      },
      "outputs": [],
      "source": [
        "def check_win (bd, p_symbol):\n",
        "    \n",
        "    # game winning criteria\n",
        "    return \\\n",
        "    bd [1] == bd [2] == bd [3] == p_symbol or \\\n",
        "    bd [4] == bd [5] == bd [6] == p_symbol or \\\n",
        "    bd [7] == bd [8] == bd [9] == p_symbol or \\\n",
        "    bd [1] == bd [4] == bd [7] == p_symbol or \\\n",
        "    bd [2] == bd [5] == bd [8] == p_symbol or \\\n",
        "    bd [3] == bd [6] == bd [9] == p_symbol or \\\n",
        "    bd [1] == bd [5] == bd [9] == p_symbol or \\\n",
        "    bd [3] == bd [5] == bd [7] == p_symbol\n"
      ]
    },
    {
      "cell_type": "code",
      "execution_count": null,
      "metadata": {
        "id": "MsVtAaq8DrS8"
      },
      "outputs": [],
      "source": [
        "def player_play (bd, p_symbol, p_id):\n",
        "\n",
        "    #print default board (1-9)\n",
        "    default_board()\n",
        "\n",
        "    print (f'player {p_id}')\n",
        "    \n",
        "    #ask players to pick a number\n",
        "    while True:\n",
        "        p_number = pick_number()\n",
        "\n",
        "    #check if numer picked is already used\n",
        "        if check_repeat (bd, p_number):\n",
        "            break\n",
        "\n",
        "        else:\n",
        "            print ('number already used; pick another number')\n",
        "\n",
        "    #update the board with picked numer\n",
        "    update_board (bd, p_symbol, p_number)\n",
        "\n",
        "    #display the updated board\n",
        "    print_board (bd)\n",
        "\n",
        "    #check if player won the game\n",
        "    if check_win (bd, p_symbol):\n",
        "        print (f'player {p_id} won')\n",
        "        return True\n",
        "    \n",
        "    #check if game is tied\n",
        "    elif check_tie (bd):\n",
        "        print ('game tie')\n",
        "        return True\n",
        "    \n",
        "    return False"
      ]
    },
    {
      "cell_type": "code",
      "execution_count": null,
      "metadata": {
        "id": "86ibtIAy_sap"
      },
      "outputs": [],
      "source": [
        "from IPython.display import clear_output\n",
        "\n",
        "def play_game ():\n",
        "    \n",
        "    #looping game for replay or not replay\n",
        "    while True:\n",
        "        \n",
        "        #clear screen\n",
        "        clear_output()\n",
        "\n",
        "        #set default board 3 x 3\n",
        "        board = ['*'] * 10\n",
        "\n",
        "        #players choose and assigned symbols\n",
        "        p1_symbol, p2_symbol = player_symbol()\n",
        "        \n",
        "        #loop game until it's won or tied\n",
        "        while True:\n",
        "            \n",
        "            #player 1: check is game is tied or won or neither (continue game)\n",
        "            p1_result = player_play (board, p1_symbol, 1)\n",
        "            \n",
        "            #if tied or won, end this round of game for both players\n",
        "            if p1_result:\n",
        "                break\n",
        "              \n",
        "            #player 2: check is game is tied or won or neither (continue game)\n",
        "            p2_result = player_play (board, p2_symbol, 2)\n",
        "\n",
        "            #if tied or won, end this round of game for both players\n",
        "            if p2_result:\n",
        "                break\n",
        "\n",
        "        #ask players if replay game\n",
        "        k = ''\n",
        "        while k not in ['Y', 'N']:\n",
        "\n",
        "            k = input ('replay the game? (Y/N): ').upper()\n",
        "\n",
        "            if k not in ['Y', 'N']:\n",
        "                print ('wrong input')\n",
        "\n",
        "        #if no, end the game\n",
        "        if k == 'N':\n",
        "            clear_output()\n",
        "            print ('goodbye')\n",
        "            break\n",
        "        \n",
        "        #otherwise, loop the game\n",
        "            "
      ]
    },
    {
      "cell_type": "code",
      "execution_count": null,
      "metadata": {
        "colab": {
          "base_uri": "https://localhost:8080/",
          "height": 764
        },
        "id": "ZF7tuVhiFRl7",
        "outputId": "3b8bf86b-6895-4f64-8f2b-f35ed18a3f7e"
      },
      "outputs": [
        {
          "output_type": "stream",
          "name": "stdout",
          "text": [
            "* | * | *\n",
            "---------\n",
            "* | * | *\n",
            "---------\n",
            "O | X | O\n",
            "         \n",
            "7 | 8 | 9\n",
            "---------\n",
            "4 | 5 | 6\n",
            "---------\n",
            "1 | 2 | 3\n",
            "player 2\n"
          ]
        },
        {
          "output_type": "error",
          "ename": "KeyboardInterrupt",
          "evalue": "ignored",
          "traceback": [
            "\u001b[0;31m---------------------------------------------------------------------------\u001b[0m",
            "\u001b[0;31mKeyboardInterrupt\u001b[0m                         Traceback (most recent call last)",
            "\u001b[0;32m/usr/local/lib/python3.7/dist-packages/ipykernel/kernelbase.py\u001b[0m in \u001b[0;36m_input_request\u001b[0;34m(self, prompt, ident, parent, password)\u001b[0m\n\u001b[1;32m    728\u001b[0m             \u001b[0;32mtry\u001b[0m\u001b[0;34m:\u001b[0m\u001b[0;34m\u001b[0m\u001b[0;34m\u001b[0m\u001b[0m\n\u001b[0;32m--> 729\u001b[0;31m                 \u001b[0mident\u001b[0m\u001b[0;34m,\u001b[0m \u001b[0mreply\u001b[0m \u001b[0;34m=\u001b[0m \u001b[0mself\u001b[0m\u001b[0;34m.\u001b[0m\u001b[0msession\u001b[0m\u001b[0;34m.\u001b[0m\u001b[0mrecv\u001b[0m\u001b[0;34m(\u001b[0m\u001b[0mself\u001b[0m\u001b[0;34m.\u001b[0m\u001b[0mstdin_socket\u001b[0m\u001b[0;34m,\u001b[0m \u001b[0;36m0\u001b[0m\u001b[0;34m)\u001b[0m\u001b[0;34m\u001b[0m\u001b[0;34m\u001b[0m\u001b[0m\n\u001b[0m\u001b[1;32m    730\u001b[0m             \u001b[0;32mexcept\u001b[0m \u001b[0mException\u001b[0m\u001b[0;34m:\u001b[0m\u001b[0;34m\u001b[0m\u001b[0;34m\u001b[0m\u001b[0m\n",
            "\u001b[0;32m/usr/local/lib/python3.7/dist-packages/jupyter_client/session.py\u001b[0m in \u001b[0;36mrecv\u001b[0;34m(self, socket, mode, content, copy)\u001b[0m\n\u001b[1;32m    802\u001b[0m         \u001b[0;32mtry\u001b[0m\u001b[0;34m:\u001b[0m\u001b[0;34m\u001b[0m\u001b[0;34m\u001b[0m\u001b[0m\n\u001b[0;32m--> 803\u001b[0;31m             \u001b[0mmsg_list\u001b[0m \u001b[0;34m=\u001b[0m \u001b[0msocket\u001b[0m\u001b[0;34m.\u001b[0m\u001b[0mrecv_multipart\u001b[0m\u001b[0;34m(\u001b[0m\u001b[0mmode\u001b[0m\u001b[0;34m,\u001b[0m \u001b[0mcopy\u001b[0m\u001b[0;34m=\u001b[0m\u001b[0mcopy\u001b[0m\u001b[0;34m)\u001b[0m\u001b[0;34m\u001b[0m\u001b[0;34m\u001b[0m\u001b[0m\n\u001b[0m\u001b[1;32m    804\u001b[0m         \u001b[0;32mexcept\u001b[0m \u001b[0mzmq\u001b[0m\u001b[0;34m.\u001b[0m\u001b[0mZMQError\u001b[0m \u001b[0;32mas\u001b[0m \u001b[0me\u001b[0m\u001b[0;34m:\u001b[0m\u001b[0;34m\u001b[0m\u001b[0;34m\u001b[0m\u001b[0m\n",
            "\u001b[0;32m/usr/local/lib/python3.7/dist-packages/zmq/sugar/socket.py\u001b[0m in \u001b[0;36mrecv_multipart\u001b[0;34m(self, flags, copy, track)\u001b[0m\n\u001b[1;32m    624\u001b[0m         \"\"\"\n\u001b[0;32m--> 625\u001b[0;31m         \u001b[0mparts\u001b[0m \u001b[0;34m=\u001b[0m \u001b[0;34m[\u001b[0m\u001b[0mself\u001b[0m\u001b[0;34m.\u001b[0m\u001b[0mrecv\u001b[0m\u001b[0;34m(\u001b[0m\u001b[0mflags\u001b[0m\u001b[0;34m,\u001b[0m \u001b[0mcopy\u001b[0m\u001b[0;34m=\u001b[0m\u001b[0mcopy\u001b[0m\u001b[0;34m,\u001b[0m \u001b[0mtrack\u001b[0m\u001b[0;34m=\u001b[0m\u001b[0mtrack\u001b[0m\u001b[0;34m)\u001b[0m\u001b[0;34m]\u001b[0m\u001b[0;34m\u001b[0m\u001b[0;34m\u001b[0m\u001b[0m\n\u001b[0m\u001b[1;32m    626\u001b[0m         \u001b[0;31m# have first part already, only loop while more to receive\u001b[0m\u001b[0;34m\u001b[0m\u001b[0;34m\u001b[0m\u001b[0;34m\u001b[0m\u001b[0m\n",
            "\u001b[0;32mzmq/backend/cython/socket.pyx\u001b[0m in \u001b[0;36mzmq.backend.cython.socket.Socket.recv\u001b[0;34m()\u001b[0m\n",
            "\u001b[0;32mzmq/backend/cython/socket.pyx\u001b[0m in \u001b[0;36mzmq.backend.cython.socket.Socket.recv\u001b[0;34m()\u001b[0m\n",
            "\u001b[0;32mzmq/backend/cython/socket.pyx\u001b[0m in \u001b[0;36mzmq.backend.cython.socket._recv_copy\u001b[0;34m()\u001b[0m\n",
            "\u001b[0;32m/usr/local/lib/python3.7/dist-packages/zmq/backend/cython/checkrc.pxd\u001b[0m in \u001b[0;36mzmq.backend.cython.checkrc._check_rc\u001b[0;34m()\u001b[0m\n",
            "\u001b[0;31mKeyboardInterrupt\u001b[0m: ",
            "\nDuring handling of the above exception, another exception occurred:\n",
            "\u001b[0;31mKeyboardInterrupt\u001b[0m                         Traceback (most recent call last)",
            "\u001b[0;32m<ipython-input-12-51076e9b4cab>\u001b[0m in \u001b[0;36m<module>\u001b[0;34m()\u001b[0m\n\u001b[0;32m----> 1\u001b[0;31m \u001b[0mplay_game\u001b[0m\u001b[0;34m(\u001b[0m\u001b[0;34m)\u001b[0m\u001b[0;34m\u001b[0m\u001b[0;34m\u001b[0m\u001b[0m\n\u001b[0m",
            "\u001b[0;32m<ipython-input-10-931d82272d8e>\u001b[0m in \u001b[0;36mplay_game\u001b[0;34m()\u001b[0m\n\u001b[1;32m     26\u001b[0m \u001b[0;34m\u001b[0m\u001b[0m\n\u001b[1;32m     27\u001b[0m             \u001b[0;31m#player 2: check is game is tied or won or neither (continue game)\u001b[0m\u001b[0;34m\u001b[0m\u001b[0;34m\u001b[0m\u001b[0;34m\u001b[0m\u001b[0m\n\u001b[0;32m---> 28\u001b[0;31m             \u001b[0mp2_result\u001b[0m \u001b[0;34m=\u001b[0m \u001b[0mplayer_play\u001b[0m \u001b[0;34m(\u001b[0m\u001b[0mboard\u001b[0m\u001b[0;34m,\u001b[0m \u001b[0mp2_symbol\u001b[0m\u001b[0;34m,\u001b[0m \u001b[0;36m2\u001b[0m\u001b[0;34m)\u001b[0m\u001b[0;34m\u001b[0m\u001b[0;34m\u001b[0m\u001b[0m\n\u001b[0m\u001b[1;32m     29\u001b[0m \u001b[0;34m\u001b[0m\u001b[0m\n\u001b[1;32m     30\u001b[0m             \u001b[0;31m#if tied or won, end this round of game for both players\u001b[0m\u001b[0;34m\u001b[0m\u001b[0;34m\u001b[0m\u001b[0;34m\u001b[0m\u001b[0m\n",
            "\u001b[0;32m<ipython-input-9-f00275afe681>\u001b[0m in \u001b[0;36mplayer_play\u001b[0;34m(bd, p_symbol, p_id)\u001b[0m\n\u001b[1;32m      8\u001b[0m     \u001b[0;31m#ask players to pick a number\u001b[0m\u001b[0;34m\u001b[0m\u001b[0;34m\u001b[0m\u001b[0;34m\u001b[0m\u001b[0m\n\u001b[1;32m      9\u001b[0m     \u001b[0;32mwhile\u001b[0m \u001b[0;32mTrue\u001b[0m\u001b[0;34m:\u001b[0m\u001b[0;34m\u001b[0m\u001b[0;34m\u001b[0m\u001b[0m\n\u001b[0;32m---> 10\u001b[0;31m         \u001b[0mp_number\u001b[0m \u001b[0;34m=\u001b[0m \u001b[0mpick_number\u001b[0m\u001b[0;34m(\u001b[0m\u001b[0;34m)\u001b[0m\u001b[0;34m\u001b[0m\u001b[0;34m\u001b[0m\u001b[0m\n\u001b[0m\u001b[1;32m     11\u001b[0m \u001b[0;34m\u001b[0m\u001b[0m\n\u001b[1;32m     12\u001b[0m     \u001b[0;31m#check if numer picked is already used\u001b[0m\u001b[0;34m\u001b[0m\u001b[0;34m\u001b[0m\u001b[0;34m\u001b[0m\u001b[0m\n",
            "\u001b[0;32m<ipython-input-4-cefd73c43919>\u001b[0m in \u001b[0;36mpick_number\u001b[0;34m()\u001b[0m\n\u001b[1;32m      8\u001b[0m     \u001b[0;32mwhile\u001b[0m \u001b[0mn\u001b[0m \u001b[0;32mnot\u001b[0m \u001b[0;32min\u001b[0m \u001b[0;34m[\u001b[0m\u001b[0mstr\u001b[0m\u001b[0;34m(\u001b[0m\u001b[0mx\u001b[0m\u001b[0;34m)\u001b[0m \u001b[0;32mfor\u001b[0m \u001b[0mx\u001b[0m \u001b[0;32min\u001b[0m \u001b[0mrange\u001b[0m\u001b[0;34m(\u001b[0m\u001b[0;36m1\u001b[0m\u001b[0;34m,\u001b[0m \u001b[0;36m10\u001b[0m\u001b[0;34m)\u001b[0m\u001b[0;34m]\u001b[0m\u001b[0;34m:\u001b[0m\u001b[0;34m\u001b[0m\u001b[0;34m\u001b[0m\u001b[0m\n\u001b[1;32m      9\u001b[0m \u001b[0;34m\u001b[0m\u001b[0m\n\u001b[0;32m---> 10\u001b[0;31m         \u001b[0mn\u001b[0m \u001b[0;34m=\u001b[0m \u001b[0minput\u001b[0m \u001b[0;34m(\u001b[0m\u001b[0;34m'please pick a number (1-9):'\u001b[0m\u001b[0;34m)\u001b[0m\u001b[0;34m\u001b[0m\u001b[0;34m\u001b[0m\u001b[0m\n\u001b[0m\u001b[1;32m     11\u001b[0m \u001b[0;34m\u001b[0m\u001b[0m\n\u001b[1;32m     12\u001b[0m         \u001b[0;32mif\u001b[0m \u001b[0mn\u001b[0m \u001b[0;32mnot\u001b[0m \u001b[0;32min\u001b[0m \u001b[0;34m[\u001b[0m\u001b[0mstr\u001b[0m\u001b[0;34m(\u001b[0m\u001b[0mx\u001b[0m\u001b[0;34m)\u001b[0m \u001b[0;32mfor\u001b[0m \u001b[0mx\u001b[0m \u001b[0;32min\u001b[0m \u001b[0mrange\u001b[0m\u001b[0;34m(\u001b[0m\u001b[0;36m1\u001b[0m\u001b[0;34m,\u001b[0m \u001b[0;36m10\u001b[0m\u001b[0;34m)\u001b[0m\u001b[0;34m]\u001b[0m\u001b[0;34m:\u001b[0m\u001b[0;34m\u001b[0m\u001b[0;34m\u001b[0m\u001b[0m\n",
            "\u001b[0;32m/usr/local/lib/python3.7/dist-packages/ipykernel/kernelbase.py\u001b[0m in \u001b[0;36mraw_input\u001b[0;34m(self, prompt)\u001b[0m\n\u001b[1;32m    702\u001b[0m             \u001b[0mself\u001b[0m\u001b[0;34m.\u001b[0m\u001b[0m_parent_ident\u001b[0m\u001b[0;34m,\u001b[0m\u001b[0;34m\u001b[0m\u001b[0;34m\u001b[0m\u001b[0m\n\u001b[1;32m    703\u001b[0m             \u001b[0mself\u001b[0m\u001b[0;34m.\u001b[0m\u001b[0m_parent_header\u001b[0m\u001b[0;34m,\u001b[0m\u001b[0;34m\u001b[0m\u001b[0;34m\u001b[0m\u001b[0m\n\u001b[0;32m--> 704\u001b[0;31m             \u001b[0mpassword\u001b[0m\u001b[0;34m=\u001b[0m\u001b[0;32mFalse\u001b[0m\u001b[0;34m,\u001b[0m\u001b[0;34m\u001b[0m\u001b[0;34m\u001b[0m\u001b[0m\n\u001b[0m\u001b[1;32m    705\u001b[0m         )\n\u001b[1;32m    706\u001b[0m \u001b[0;34m\u001b[0m\u001b[0m\n",
            "\u001b[0;32m/usr/local/lib/python3.7/dist-packages/ipykernel/kernelbase.py\u001b[0m in \u001b[0;36m_input_request\u001b[0;34m(self, prompt, ident, parent, password)\u001b[0m\n\u001b[1;32m    732\u001b[0m             \u001b[0;32mexcept\u001b[0m \u001b[0mKeyboardInterrupt\u001b[0m\u001b[0;34m:\u001b[0m\u001b[0;34m\u001b[0m\u001b[0;34m\u001b[0m\u001b[0m\n\u001b[1;32m    733\u001b[0m                 \u001b[0;31m# re-raise KeyboardInterrupt, to truncate traceback\u001b[0m\u001b[0;34m\u001b[0m\u001b[0;34m\u001b[0m\u001b[0;34m\u001b[0m\u001b[0m\n\u001b[0;32m--> 734\u001b[0;31m                 \u001b[0;32mraise\u001b[0m \u001b[0mKeyboardInterrupt\u001b[0m\u001b[0;34m\u001b[0m\u001b[0;34m\u001b[0m\u001b[0m\n\u001b[0m\u001b[1;32m    735\u001b[0m             \u001b[0;32melse\u001b[0m\u001b[0;34m:\u001b[0m\u001b[0;34m\u001b[0m\u001b[0;34m\u001b[0m\u001b[0m\n\u001b[1;32m    736\u001b[0m                 \u001b[0;32mbreak\u001b[0m\u001b[0;34m\u001b[0m\u001b[0;34m\u001b[0m\u001b[0m\n",
            "\u001b[0;31mKeyboardInterrupt\u001b[0m: "
          ]
        }
      ],
      "source": [
        "play_game()"
      ]
    },
    {
      "cell_type": "code",
      "execution_count": null,
      "metadata": {
        "id": "aVDbs6JPFS_T"
      },
      "outputs": [],
      "source": [
        "3\n"
      ]
    }
  ],
  "metadata": {
    "colab": {
      "collapsed_sections": [],
      "name": "tic tac toe.ipynb",
      "provenance": []
    },
    "kernelspec": {
      "display_name": "Python 3 (ipykernel)",
      "language": "python",
      "name": "python3"
    },
    "language_info": {
      "codemirror_mode": {
        "name": "ipython",
        "version": 3
      },
      "file_extension": ".py",
      "mimetype": "text/x-python",
      "name": "python",
      "nbconvert_exporter": "python",
      "pygments_lexer": "ipython3",
      "version": "3.9.12"
    }
  },
  "nbformat": 4,
  "nbformat_minor": 0
}